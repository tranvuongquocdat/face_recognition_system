{
 "cells": [
  {
   "cell_type": "code",
   "execution_count": 1,
   "metadata": {},
   "outputs": [
    {
     "name": "stdout",
     "output_type": "stream",
     "text": [
      "Copying table: tracking_history\n",
      "Copying table: tracking_history_error\n",
      "Copying table: user_images\n",
      "Copying table: user_details\n",
      "Copying table: departments\n",
      "Copying table: workshops\n",
      "Database copy complete.\n"
     ]
    }
   ],
   "source": [
    "from sqlalchemy import create_engine, MetaData, Table\n",
    "import pandas as pd\n",
    "import uuid\n",
    "import json\n",
    "\n",
    "# Replace these with your actual PostgreSQL credentials\n",
    "user = \"hrm\"\n",
    "password = \"hrm\"\n",
    "host = \"35.223.205.197\"  # IP address or hostname\n",
    "port = \"5432\"  # Default PostgreSQL port\n",
    "database = \"attendance_tracking\"\n",
    "\n",
    "# Database connection URI for PostgreSQL\n",
    "pg_database_uri = f'postgresql://{user}:{password}@{host}:{port}/{database}'\n",
    "pg_engine = create_engine(pg_database_uri)\n",
    "\n",
    "# SQLite database URI\n",
    "sqlite_database_uri = 'sqlite:///local_attendance_tracking.db'\n",
    "sqlite_engine = create_engine(sqlite_database_uri)\n",
    "\n",
    "# Create MetaData instance for PostgreSQL\n",
    "pg_metadata = MetaData()\n",
    "pg_metadata.reflect(bind=pg_engine)\n",
    "\n",
    "# Specify the tables you want to copy\n",
    "tables_to_copy = ['tracking_history','tracking_history_error','user_images', 'user_details', 'departments', 'workshops']\n",
    "\n",
    "# Iterate over specified tables and copy schema and data to SQLite\n",
    "for table_name in tables_to_copy:\n",
    "    if table_name in pg_metadata.tables:\n",
    "        print(f\"Copying table: {table_name}\")\n",
    "        pg_table = pg_metadata.tables[table_name]\n",
    "\n",
    "        # Fetch data from PostgreSQL table\n",
    "        data = pd.read_sql_table(table_name, pg_engine)\n",
    "\n",
    "        # Check if the DataFrame is not empty before processing\n",
    "        if not data.empty:\n",
    "            # Convert UUID columns to strings and handle complex data\n",
    "            for col in data.columns:\n",
    "                if data[col].dtype == 'object':\n",
    "                    # Convert UUIDs to strings\n",
    "                    if len(data[col]) > 0 and isinstance(data[col].iloc[0], uuid.UUID):\n",
    "                        data[col] = data[col].astype(str)\n",
    "\n",
    "                    # Convert dictionaries or JSON-like objects to strings\n",
    "                    elif isinstance(data[col].iloc[0], dict):\n",
    "                        data[col] = data[col].apply(lambda x: json.dumps(x) if isinstance(x, dict) else x)\n",
    "\n",
    "        # Write data to SQLite table\n",
    "        data.to_sql(table_name, sqlite_engine, if_exists='replace', index=False)\n",
    "\n",
    "print(\"Database copy complete.\")"
   ]
  }
 ],
 "metadata": {
  "kernelspec": {
   "display_name": "Python 3",
   "language": "python",
   "name": "python3"
  },
  "language_info": {
   "codemirror_mode": {
    "name": "ipython",
    "version": 3
   },
   "file_extension": ".py",
   "mimetype": "text/x-python",
   "name": "python",
   "nbconvert_exporter": "python",
   "pygments_lexer": "ipython3",
   "version": "3.11.7"
  }
 },
 "nbformat": 4,
 "nbformat_minor": 2
}
