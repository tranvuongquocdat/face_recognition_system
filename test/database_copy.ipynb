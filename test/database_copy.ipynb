{
 "cells": [
  {
   "cell_type": "code",
   "execution_count": 5,
   "metadata": {},
   "outputs": [
    {
     "name": "stdout",
     "output_type": "stream",
     "text": [
      "Copying table: departments\n",
      "Copying table: workshops\n",
      "Copying table: user_images\n",
      "Copying table: user_details\n",
      "Copying table: tracking_history\n",
      "Copying table: tracking_history_error\n",
      "Database copy complete.\n"
     ]
    }
   ],
   "source": [
    "from sqlalchemy import create_engine, MetaData, Table\n",
    "import pandas as pd\n",
    "import uuid\n",
    "import json\n",
    "\n",
    "# Replace these with your actual PostgreSQL credentials\n",
    "user = \"hrm\"\n",
    "password = \"hrm\"\n",
    "host = \"35.223.205.197\"  # IP address or hostname\n",
    "port = \"5432\"  # Default PostgreSQL port\n",
    "database = \"attendance_tracking\"\n",
    "\n",
    "user= \"postgres\"\n",
    "password= \"123456\"\n",
    "host= \"localhost\"\n",
    "port= \"5432\"\n",
    "database= \"attendance_tracking\"\n",
    "\n",
    "# Database connection URI for PostgreSQL\n",
    "pg_database_uri = f'postgresql://{user}:{password}@{host}:{port}/{database}'\n",
    "pg_engine = create_engine(pg_database_uri)\n",
    "\n",
    "# SQLite database URI\n",
    "sqlite_database_uri = 'sqlite:///local_attendance_tracking.db'\n",
    "sqlite_engine = create_engine(sqlite_database_uri)\n",
    "\n",
    "# Create MetaData instance for PostgreSQL\n",
    "pg_metadata = MetaData()\n",
    "pg_metadata.reflect(bind=pg_engine)\n",
    "\n",
    "# Specify the tables you want to copy\n",
    "tables_to_copy = ['departments','workshops','user_images', 'user_details', 'tracking_history', 'tracking_history_error']\n",
    "\n",
    "# Iterate over specified tables and copy schema and data to SQLite\n",
    "for table_name in tables_to_copy:\n",
    "    if table_name in pg_metadata.tables:\n",
    "        print(f\"Copying table: {table_name}\")\n",
    "        pg_table = pg_metadata.tables[table_name]\n",
    "\n",
    "        # Fetch data from PostgreSQL table\n",
    "        data = pd.read_sql_table(table_name, pg_engine)\n",
    "\n",
    "        # Check if the DataFrame is not empty before processing\n",
    "        if not data.empty:\n",
    "            # Convert UUID columns to strings and handle complex data\n",
    "            for col in data.columns:\n",
    "                if data[col].dtype == 'object':\n",
    "                    # Convert UUIDs to strings\n",
    "                    if len(data[col]) > 0 and isinstance(data[col].iloc[0], uuid.UUID):\n",
    "                        data[col] = data[col].astype(str)\n",
    "\n",
    "                    # Convert dictionaries or JSON-like objects to strings\n",
    "                    elif isinstance(data[col].iloc[0], dict):\n",
    "                        data[col] = data[col].apply(lambda x: json.dumps(x) if isinstance(x, dict) else x)\n",
    "\n",
    "        # Write data to SQLite table\n",
    "        data.to_sql(table_name, sqlite_engine, if_exists='replace', index=False)\n",
    "\n",
    "print(\"Database copy complete.\")"
   ]
  },
  {
   "cell_type": "code",
   "execution_count": 6,
   "metadata": {},
   "outputs": [],
   "source": [
    "#check db\n",
    "import sqlalchemy as db\n",
    "from sqlalchemy import create_engine, MetaData, Table, select\n",
    "import psycopg2\n",
    "\n",
    "# Connect to PostgreSQL database\n",
    "pg_engine = create_engine('sqlite:///local_attendance_tracking.db')\n",
    "online_connection = pg_engine.connect()\n",
    "online_metadata = db.MetaData()\n",
    "\n",
    "user_details = db.Table('user_details', online_metadata, autoload_with=pg_engine)\n",
    "user_images = db.Table('user_images', online_metadata, autoload_with=pg_engine)\n",
    "tracking_history = db.Table('tracking_history', online_metadata, autoload_with=pg_engine)\n",
    "tracking_history_error = db.Table('tracking_history_error', online_metadata, autoload_with=pg_engine)"
   ]
  },
  {
   "cell_type": "code",
   "execution_count": 8,
   "metadata": {},
   "outputs": [
    {
     "name": "stdout",
     "output_type": "stream",
     "text": [
      "('02ea6111-d521-420c-ac62-707ca00b2757', 'f1d2dc5d-a04f-425f-8e23-424c2fbfa406', 'NT10863', None, None, 'Lâm Thị Trang', '0001-01-01', 5, None, None, None, None, None, None, None, None, None, None, None, None, None, None, '0001-01-01', None, None, None, None, None, None, None, None, None, '0001-01-01', '0001-01-01', '0001-01-01', None, None, None, None, None, None, 0, 6, '0001-01-01', 0, None, None, None)\n",
      "('173af05b-58f3-4756-8d75-b54ca78e03dc', 'dbd23c14-0445-4f00-ba8d-569f3a33ee97', 'NT05255', None, None, 'Phùng Bá Huy', '0001-01-01', 5, None, None, None, None, None, None, None, None, None, None, None, None, None, None, '0001-01-01', None, None, None, None, None, None, None, None, None, '0001-01-01', '0001-01-01', '0001-01-01', None, None, None, None, None, None, 0, 6, '0001-01-01', 0, None, None, None)\n",
      "('1943bf5d-9b62-4443-b948-ed56e9167519', 'dbd23c14-0445-4f00-ba8d-569f3a33ee97', 'NT11185', None, None, 'Vũ Thị Thảo', '0001-01-01', 5, None, None, None, None, None, None, None, None, None, None, None, None, None, None, '0001-01-01', None, None, None, None, None, None, None, None, None, '0001-01-01', '0001-01-01', '0001-01-01', None, None, None, None, None, None, 0, 6, '0001-01-01', 0, None, None, None)\n",
      "('20c88782-c8db-49f1-a5c2-8ecc68080d21', '9c027fb2-83bf-4da9-8ea6-b2128d21b981', 'NT11172', None, None, 'Hoàng Thị Huyền Trang', '0001-01-01', 5, None, None, None, None, None, None, None, None, None, None, None, None, None, None, '0001-01-01', None, None, None, None, None, None, None, None, None, '0001-01-01', '0001-01-01', '0001-01-01', None, None, None, None, None, None, 0, 6, '0001-01-01', 0, None, None, None)\n",
      "('211b02c6-bf0d-44ee-8aec-bf903599fd31', 'dbd23c14-0445-4f00-ba8d-569f3a33ee97', 'NT09086', None, None, 'Nhâm Thị Thu Quyên', '0001-01-01', 5, None, None, None, None, None, None, None, None, None, None, None, None, None, None, '0001-01-01', None, None, None, None, None, None, None, None, None, '0001-01-01', '0001-01-01', '0001-01-01', None, None, None, None, None, None, 0, 6, '0001-01-01', 0, None, None, None)\n",
      "('4ce7beed-113a-4153-9523-743a49eb337a', 'dbd23c14-0445-4f00-ba8d-569f3a33ee97', 'NT00817', None, None, 'Vũ Thị Đào', '0001-01-01', 5, None, None, None, None, None, None, None, None, None, None, None, None, None, None, '0001-01-01', None, None, None, None, None, None, None, None, None, '0001-01-01', '0001-01-01', '0001-01-01', None, None, None, None, None, None, 0, 6, '0001-01-01', 0, None, None, None)\n",
      "('5fb09c6d-044a-44c8-8fc7-e3e0a09065a6', 'f1d2dc5d-a04f-425f-8e23-424c2fbfa406', 'NT00001', None, None, 'Đỗ Hà Linh', '0001-01-01', 5, None, None, None, None, None, None, None, None, None, None, None, None, None, None, '0001-01-01', None, None, None, None, None, None, None, None, None, '0001-01-01', '0001-01-01', '0001-01-01', None, None, None, None, None, None, 0, 6, '0001-01-01', 0, None, None, None)\n",
      "('69aeb98c-e495-4456-853f-abf133156b6f', '9c027fb2-83bf-4da9-8ea6-b2128d21b981', 'NT10071', None, None, 'Nguyễn Hoài Thu', '0001-01-01', 5, None, None, None, None, None, None, None, None, None, None, None, None, None, None, '0001-01-01', None, None, None, None, None, None, None, None, None, '0001-01-01', '0001-01-01', '0001-01-01', None, None, None, None, None, None, 0, 6, '0001-01-01', 0, None, None, None)\n",
      "('6d73f078-b3a9-43a5-bdb4-cd1ceb83a884', 'f1d2dc5d-a04f-425f-8e23-424c2fbfa406', 'NT10753', None, None, 'Bùi Thùy Linh', '0001-01-01', 5, None, None, None, None, None, None, None, None, None, None, None, None, None, None, '0001-01-01', None, None, None, None, None, None, None, None, None, '0001-01-01', '0001-01-01', '0001-01-01', None, None, None, None, None, None, 0, 6, '0001-01-01', 0, None, None, None)\n",
      "('746d8a37-4943-4bd8-b4c3-5bb7d006124e', 'f1d2dc5d-a04f-425f-8e23-424c2fbfa406', 'NT00731', None, None, 'Lưu Hương Huệ', '0001-01-01', 5, None, None, None, None, None, None, None, None, None, None, None, None, None, None, '0001-01-01', None, None, None, None, None, None, None, None, None, '0001-01-01', '0001-01-01', '0001-01-01', None, None, None, None, None, None, 0, 6, '0001-01-01', 0, None, None, None)\n",
      "('7a39e74e-404c-4a3d-8df3-98ed9870de30', 'dbd23c14-0445-4f00-ba8d-569f3a33ee97', 'NT50048', None, None, 'Lê Thị Nhung', '0001-01-01', 5, None, None, None, None, None, None, None, None, None, None, None, None, None, None, '0001-01-01', None, None, None, None, None, None, None, None, None, '0001-01-01', '0001-01-01', '0001-01-01', None, None, None, None, None, None, 0, 6, '0001-01-01', 0, None, None, None)\n",
      "('7eeae2f5-994b-4c56-86ad-b0ea159daad3', '9c027fb2-83bf-4da9-8ea6-b2128d21b981', 'NT10905', None, None, 'Trần Văn Khẩn', '0001-01-01', 5, None, None, None, None, None, None, None, None, None, None, None, None, None, None, '0001-01-01', None, None, None, None, None, None, None, None, None, '0001-01-01', '0001-01-01', '0001-01-01', None, None, None, None, None, None, 0, 6, '0001-01-01', 0, None, None, None)\n",
      "('a15dae99-701e-4c2d-808c-c58d6822d91e', 'dbd23c14-0445-4f00-ba8d-569f3a33ee97', 'NT11388', None, None, 'Trần Thảo Chi', '0001-01-01', 5, None, None, None, None, None, None, None, None, None, None, None, None, None, None, '0001-01-01', None, None, None, None, None, None, None, None, None, '0001-01-01', '0001-01-01', '0001-01-01', None, None, None, None, None, None, 0, 6, '0001-01-01', 0, None, None, None)\n",
      "('a4fe2b0a-b8a6-4188-8cd0-cc303ea12cd1', 'f1d2dc5d-a04f-425f-8e23-424c2fbfa406', 'NT10016', None, None, 'Phạm Thị Kim Dung', '0001-01-01', 5, None, None, None, None, None, None, None, None, None, None, None, None, None, None, '0001-01-01', None, None, None, None, None, None, None, None, None, '0001-01-01', '0001-01-01', '0001-01-01', None, None, None, None, None, None, 0, 6, '0001-01-01', 0, None, None, None)\n",
      "('a9ad494a-1af3-473a-8ee1-3deb6ec74484', 'dbd23c14-0445-4f00-ba8d-569f3a33ee97', 'NT60354', None, None, 'Trần Thị Kim Khánh', '0001-01-01', 5, None, None, None, None, None, None, None, None, None, None, None, None, None, None, '0001-01-01', None, None, None, None, None, None, None, None, None, '0001-01-01', '0001-01-01', '0001-01-01', None, None, None, None, None, None, 0, 6, '0001-01-01', 0, None, None, None)\n",
      "('aa7b2a40-d015-43fe-ad29-c67849b54f09', '9c027fb2-83bf-4da9-8ea6-b2128d21b981', 'NT07196', None, None, 'Phùng Thị Thúy Bình', '0001-01-01', 5, None, None, None, None, None, None, None, None, None, None, None, None, None, None, '0001-01-01', None, None, None, None, None, None, None, None, None, '0001-01-01', '0001-01-01', '0001-01-01', None, None, None, None, None, None, 0, 6, '0001-01-01', 0, None, None, None)\n",
      "('af34c197-d4c6-4eea-9da5-dc396b14978e', 'dbd23c14-0445-4f00-ba8d-569f3a33ee97', 'NT05042', None, None, 'Trần Thị Sen', '0001-01-01', 5, None, None, None, None, None, None, None, None, None, None, None, None, None, None, '0001-01-01', None, None, None, None, None, None, None, None, None, '0001-01-01', '0001-01-01', '0001-01-01', None, None, None, None, None, None, 0, 6, '0001-01-01', 0, None, None, None)\n",
      "('b376cd35-22ca-42b2-9455-d9f6384f33e3', 'dbd23c14-0445-4f00-ba8d-569f3a33ee97', 'NT00700', None, None, 'Nguyễn Thị Lan Phương', '0001-01-01', 5, None, None, None, None, None, None, None, None, None, None, None, None, None, None, '0001-01-01', None, None, None, None, None, None, None, None, None, '0001-01-01', '0001-01-01', '0001-01-01', None, None, None, None, None, None, 0, 6, '0001-01-01', 0, None, None, None)\n",
      "('b4abc225-3e8b-4c77-abeb-2d2494ee4a16', '9c027fb2-83bf-4da9-8ea6-b2128d21b981', 'NT10483', None, None, 'Đoàn Ngọc Long', '0001-01-01', 5, None, None, None, None, None, None, None, None, None, None, None, None, None, None, '0001-01-01', None, None, None, None, None, None, None, None, None, '0001-01-01', '0001-01-01', '0001-01-01', None, None, None, None, None, None, 0, 6, '0001-01-01', 0, None, None, None)\n",
      "('bf3e30bd-33c7-4c0d-bf80-ec1b933637d2', '9c027fb2-83bf-4da9-8ea6-b2128d21b981', 'NT00046', None, None, 'Nguyễn Như Hùng', '0001-01-01', 5, None, None, None, None, None, None, None, None, None, None, None, None, None, None, '0001-01-01', None, None, None, None, None, None, None, None, None, '0001-01-01', '0001-01-01', '0001-01-01', None, None, None, None, None, None, 0, 6, '0001-01-01', 0, None, None, None)\n",
      "('c38e99ea-05c8-41d2-8d45-ba884a0e0ad1', 'dbd23c14-0445-4f00-ba8d-569f3a33ee97', 'NT10564', None, None, 'Phạm Hương Ly', '0001-01-01', 5, None, None, None, None, None, None, None, None, None, None, None, None, None, None, '0001-01-01', None, None, None, None, None, None, None, None, None, '0001-01-01', '0001-01-01', '0001-01-01', None, None, None, None, None, None, 0, 6, '0001-01-01', 0, None, None, None)\n",
      "('c62cbf72-846c-4f7b-bdf1-542d5c692ca3', 'dbd23c14-0445-4f00-ba8d-569f3a33ee97', 'NT60353', None, None, 'Nguyễn Thị Thu Hương', '0001-01-01', 5, None, None, None, None, None, None, None, None, None, None, None, None, None, None, '0001-01-01', None, None, None, None, None, None, None, None, None, '0001-01-01', '0001-01-01', '0001-01-01', None, None, None, None, None, None, 0, 6, '0001-01-01', 0, None, None, None)\n",
      "('caacc490-f22c-4870-a539-bf4887ff1b5a', 'dbd23c14-0445-4f00-ba8d-569f3a33ee97', 'NT10330', None, None, 'Bùi Thanh Tâm', '0001-01-01', 5, None, None, None, None, None, None, None, None, None, None, None, None, None, None, '0001-01-01', None, None, None, None, None, None, None, None, None, '0001-01-01', '0001-01-01', '0001-01-01', None, None, None, None, None, None, 0, 6, '0001-01-01', 0, None, None, None)\n",
      "('d0c414ac-3afe-45b4-8386-116f18fe585f', '9c027fb2-83bf-4da9-8ea6-b2128d21b981', 'NT11344', None, None, 'Phạm Hữu Chiến', '0001-01-01', 5, None, None, None, None, None, None, None, None, None, None, None, None, None, None, '0001-01-01', None, None, None, None, None, None, None, None, None, '0001-01-01', '0001-01-01', '0001-01-01', None, None, None, None, None, None, 0, 6, '0001-01-01', 0, None, None, None)\n",
      "('dbf12235-3eb7-4efc-a619-fcdc152af23b', '9c027fb2-83bf-4da9-8ea6-b2128d21b981', 'NT07942', None, None, 'Phạm Văn Đương', '0001-01-01', 5, None, None, None, None, None, None, None, None, None, None, None, None, None, None, '0001-01-01', None, None, None, None, None, None, None, None, None, '0001-01-01', '0001-01-01', '0001-01-01', None, None, None, None, None, None, 0, 6, '0001-01-01', 0, None, None, None)\n",
      "('e8d46761-64ce-4687-8215-c6b98ea4b633', '9c027fb2-83bf-4da9-8ea6-b2128d21b981', 'NT02064', None, None, 'Đặng Thanh Tùng', '0001-01-01', 5, None, None, None, None, None, None, None, None, None, None, None, None, None, None, '0001-01-01', None, None, None, None, None, None, None, None, None, '0001-01-01', '0001-01-01', '0001-01-01', None, None, None, None, None, None, 0, 6, '0001-01-01', 0, None, None, None)\n",
      "('ea59e506-0d84-4098-9510-730514124780', 'dbd23c14-0445-4f00-ba8d-569f3a33ee97', 'NT08959', None, None, 'Nguyễn Văn Mạnh', '0001-01-01', 5, None, None, None, None, None, None, None, None, None, None, None, None, None, None, '0001-01-01', None, None, None, None, None, None, None, None, None, '0001-01-01', '0001-01-01', '0001-01-01', None, None, None, None, None, None, 0, 6, '0001-01-01', 0, None, None, None)\n",
      "('f238aa02-1538-489f-962d-702ffe9092c9', '9c027fb2-83bf-4da9-8ea6-b2128d21b981', 'NT06080', None, None, 'Nguyễn Thị Hoài', '0001-01-01', 5, None, None, None, None, None, None, None, None, None, None, None, None, None, None, '0001-01-01', None, None, None, None, None, None, None, None, None, '0001-01-01', '0001-01-01', '0001-01-01', None, None, None, None, None, None, 0, 6, '0001-01-01', 0, None, None, None)\n",
      "('f3446fed-f4db-48ad-95a5-c677e7df1cd3', 'dbd23c14-0445-4f00-ba8d-569f3a33ee97', 'NT05986', None, None, 'Nguyễn Thị Thủy', '0001-01-01', 5, None, None, None, None, None, None, None, None, None, None, None, None, None, None, '0001-01-01', None, None, None, None, None, None, None, None, None, '0001-01-01', '0001-01-01', '0001-01-01', None, None, None, None, None, None, 0, 6, '0001-01-01', 0, None, None, None)\n",
      "('fb373637-222c-41e3-8a58-77adada5ebac', 'dbd23c14-0445-4f00-ba8d-569f3a33ee97', 'NT06728', None, None, 'Phùng Thị Huyền', '0001-01-01', 5, None, None, None, None, None, None, None, None, None, None, None, None, None, None, '0001-01-01', None, None, None, None, None, None, None, None, None, '0001-01-01', '0001-01-01', '0001-01-01', None, None, None, None, None, None, 0, 6, '0001-01-01', 0, None, None, None)\n"
     ]
    }
   ],
   "source": [
    "# Truy vấn dữ liệu từ bảng\n",
    "select_query = db.select(user_details)\n",
    "result_proxy = online_connection.execute(select_query)\n",
    "result_set = result_proxy.fetchall()\n",
    "\n",
    "# Hiển thị kết quả\n",
    "for row in result_set:\n",
    "    print(row)"
   ]
  }
 ],
 "metadata": {
  "kernelspec": {
   "display_name": "Python 3",
   "language": "python",
   "name": "python3"
  },
  "language_info": {
   "codemirror_mode": {
    "name": "ipython",
    "version": 3
   },
   "file_extension": ".py",
   "mimetype": "text/x-python",
   "name": "python",
   "nbconvert_exporter": "python",
   "pygments_lexer": "ipython3",
   "version": "3.10.12"
  }
 },
 "nbformat": 4,
 "nbformat_minor": 2
}
